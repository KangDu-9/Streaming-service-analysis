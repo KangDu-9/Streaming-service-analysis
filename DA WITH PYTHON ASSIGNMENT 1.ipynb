{
 "cells": [
  {
   "cell_type": "code",
   "execution_count": null,
   "metadata": {},
   "outputs": [],
   "source": [
    "import pandas as pd\n",
    "import numpy as np\n",
    "from matplotlib import pyplot as plt"
   ]
  },
  {
   "cell_type": "markdown",
   "metadata": {},
   "source": [
    "Import csv files Movie details Dataset (CSV 1.52 MB) and Movies online streaming services Dataset (CSV 539 KB)."
   ]
  },
  {
   "cell_type": "code",
   "execution_count": null,
   "metadata": {},
   "outputs": [],
   "source": [
    "movie_details = pd.read_csv('./Dataset-Movie-details.csv')\n",
    "movies_streaming_services = pd.read_csv('./Dataset-Movies-online-streaming-services.csv')\n",
    "movies_ranking_join = pd.read_csv('./French_movie_overall_ranking_join.csv')"
   ]
  },
  {
   "cell_type": "markdown",
   "metadata": {},
   "source": [
    "To get the column names and re-rank the columns by manipulation order."
   ]
  },
  {
   "cell_type": "code",
   "execution_count": null,
   "metadata": {},
   "outputs": [],
   "source": [
    "movie_details.columns.values.tolist()\n",
    "order_col = ['Title', 'Language', 'IMDb', 'Rotten Tomatoes', 'Age', 'Genres', 'Country', 'Runtime', 'Year', 'Directors']\n",
    "movie_details = movie_details[order_col]"
   ]
  },
  {
   "cell_type": "markdown",
   "metadata": {},
   "source": [
    "List movies that are available in French, then name it to french_movie_only"
   ]
  },
  {
   "cell_type": "code",
   "execution_count": null,
   "metadata": {},
   "outputs": [],
   "source": [
    "movie_details[movie_details['Language'].isnull()]"
   ]
  },
  {
   "cell_type": "code",
   "execution_count": null,
   "metadata": {
    "scrolled": true
   },
   "outputs": [],
   "source": [
    "Movie_language_null = movie_details[movie_details['Language'].isnull()]\n",
    "movie_details.drop(index = Movie_language_null.index, inplace = True)"
   ]
  },
  {
   "cell_type": "markdown",
   "metadata": {},
   "source": [
    "Get the index of 'Language' that contains French "
   ]
  },
  {
   "cell_type": "code",
   "execution_count": null,
   "metadata": {},
   "outputs": [],
   "source": [
    "French_index = movie_details['Language'].str.contains('French')"
   ]
  },
  {
   "cell_type": "code",
   "execution_count": null,
   "metadata": {},
   "outputs": [],
   "source": [
    "french_movie_only = movie_details[French_index].reset_index().drop(['index'],axis=1)"
   ]
  },
  {
   "cell_type": "code",
   "execution_count": null,
   "metadata": {},
   "outputs": [],
   "source": [
    "french_movie_only.describe(include='all')"
   ]
  },
  {
   "cell_type": "markdown",
   "metadata": {},
   "source": [
    "Export the french_movie_only to csv file and save in the same folder."
   ]
  },
  {
   "cell_type": "code",
   "execution_count": null,
   "metadata": {},
   "outputs": [],
   "source": [
    "french_movie_only.to_csv('./French_movie_only.csv')"
   ]
  },
  {
   "cell_type": "markdown",
   "metadata": {},
   "source": [
    "Find the rowsa that both 'IMDb' and 'Rotten Tomatoes' are nan, then delete these rows."
   ]
  },
  {
   "cell_type": "code",
   "execution_count": null,
   "metadata": {},
   "outputs": [],
   "source": [
    "french_movie_null_rating_index = (~(french_movie_only['IMDb'].isnull()))|(~(french_movie_only['Rotten Tomatoes'].isnull()))"
   ]
  },
  {
   "cell_type": "code",
   "execution_count": null,
   "metadata": {},
   "outputs": [],
   "source": [
    "french_movie_with_rating = french_movie_only[french_movie_null_rating_index].reset_index().drop(['index'],axis=1)"
   ]
  },
  {
   "cell_type": "code",
   "execution_count": null,
   "metadata": {},
   "outputs": [],
   "source": [
    "french_movie_with_rating.head()"
   ]
  },
  {
   "cell_type": "markdown",
   "metadata": {},
   "source": [
    "Normalize 'IMDb' and 'Rotten Tomatoes' rating in percentile float data type, then canculate average value."
   ]
  },
  {
   "cell_type": "code",
   "execution_count": null,
   "metadata": {},
   "outputs": [],
   "source": [
    "french_movie_with_rating.iloc[:, 2] = french_movie_with_rating.iloc[:, 2]*10\n",
    "french_movie_with_rating.iloc[:, 3] = french_movie_with_rating.iloc[:, 3].apply(lambda x: str(x).split('%')[0] if x != None else x).astype(float)"
   ]
  },
  {
   "cell_type": "code",
   "execution_count": null,
   "metadata": {},
   "outputs": [],
   "source": [
    "french_movie_with_rating"
   ]
  },
  {
   "cell_type": "code",
   "execution_count": null,
   "metadata": {},
   "outputs": [],
   "source": [
    "add_allrating_col_name = french_movie_with_rating.columns.tolist()"
   ]
  },
  {
   "cell_type": "markdown",
   "metadata": {},
   "source": [
    "Insert a new column 'Overall rating'"
   ]
  },
  {
   "cell_type": "code",
   "execution_count": null,
   "metadata": {},
   "outputs": [],
   "source": [
    "add_allrating_col_name.insert(4,'Overall rating')\n",
    "french_movie_with_rating = french_movie_with_rating.reindex(columns = add_allrating_col_name)"
   ]
  },
  {
   "cell_type": "markdown",
   "metadata": {},
   "source": [
    "Calculate mean value of 'IMDb' and 'Rotten Tomatoes'"
   ]
  },
  {
   "cell_type": "code",
   "execution_count": null,
   "metadata": {},
   "outputs": [],
   "source": [
    "french_movie_with_rating['Overall rating'] = french_movie_with_rating[['IMDb', 'Rotten Tomatoes']].mean(axis=1)"
   ]
  },
  {
   "cell_type": "code",
   "execution_count": null,
   "metadata": {},
   "outputs": [],
   "source": [
    "french_movie_overall_ranking = french_movie_with_rating.sort_values('Overall rating', ascending = False, ignore_index = True)"
   ]
  },
  {
   "cell_type": "markdown",
   "metadata": {},
   "source": [
    "Export the french_movie_overall_ranking to csv file and save in the same folder."
   ]
  },
  {
   "cell_type": "code",
   "execution_count": null,
   "metadata": {},
   "outputs": [],
   "source": [
    "french_movie_overall_ranking.to_csv('./French_movie_overall_ranking.csv')"
   ]
  },
  {
   "cell_type": "markdown",
   "metadata": {},
   "source": [
    "Use french_movie_only to find age groups and rank rows according to released year."
   ]
  },
  {
   "cell_type": "code",
   "execution_count": null,
   "metadata": {},
   "outputs": [],
   "source": [
    "Age_groups = french_movie_only['Age'].unique()\n",
    "Age_groups"
   ]
  },
  {
   "cell_type": "code",
   "execution_count": null,
   "metadata": {},
   "outputs": [],
   "source": [
    "french_movie_only['Group'] = ''\n",
    "for i in range(french_movie_only.shape[0]):\n",
    "    if french_movie_only['Age'][i] == 'all':\n",
    "        french_movie_only['Group'][i] = 'General'\n",
    "    elif french_movie_only['Age'][i] == '7+':\n",
    "        french_movie_only['Group'][i] = 'Parental Guidance'\n",
    "    elif french_movie_only['Age'][i] == '13+':\n",
    "        french_movie_only['Group'][i] = 'Mature'\n",
    "    elif french_movie_only['Age'][i] == '16+' or french_movie_only['Age'][i] == '18+':\n",
    "        french_movie_only['Group'][i] = 'Mature Accompanied and Restricted'\n",
    "    else:\n",
    "        french_movie_only['Group'][i] = 'Unknown rating'"
   ]
  },
  {
   "cell_type": "code",
   "execution_count": null,
   "metadata": {},
   "outputs": [],
   "source": [
    "Add_age_group = ['Title', 'Language', 'IMDb', 'Rotten Tomatoes', 'Age', 'Group', 'Genres', 'Country', 'Runtime', 'Year', 'Directors']\n",
    "french_movie_only_age_group = french_movie_only[Add_age_group]"
   ]
  },
  {
   "cell_type": "markdown",
   "metadata": {},
   "source": [
    "Lable age group for ranking purpose"
   ]
  },
  {
   "cell_type": "code",
   "execution_count": null,
   "metadata": {},
   "outputs": [],
   "source": [
    "french_movie_only_age_group['group'] = ''\n",
    "for i in range(french_movie_only_age_group.shape[0]):\n",
    "    if french_movie_only_age_group['Age'][i] == 'all':\n",
    "        french_movie_only_age_group['group'][i] = 0\n",
    "    elif french_movie_only_age_group['Age'][i] == '7+':\n",
    "        french_movie_only_age_group['group'][i] = 1\n",
    "    elif french_movie_only_age_group['Age'][i] == '13+':\n",
    "        french_movie_only_age_group['group'][i] = 2\n",
    "    elif french_movie_only_age_group['Age'][i] == '16+' or french_movie_only_age_group['Age'][i] == '18+':\n",
    "        french_movie_only_age_group['group'][i] = 3\n",
    "    else:\n",
    "        french_movie_only_age_group['group'][i] = 4"
   ]
  },
  {
   "cell_type": "code",
   "execution_count": null,
   "metadata": {},
   "outputs": [],
   "source": [
    "french_movie_only_age_group = french_movie_only_age_group.sort_values(['group', 'Year'], ascending=[True, False])"
   ]
  },
  {
   "cell_type": "code",
   "execution_count": null,
   "metadata": {},
   "outputs": [],
   "source": [
    "french_movie_only_age_group.drop(columns = 'group').reset_index()"
   ]
  },
  {
   "cell_type": "code",
   "execution_count": null,
   "metadata": {},
   "outputs": [],
   "source": [
    "french_movie_only_age_group.to_csv('./French_movie_only_age_group.csv')"
   ]
  },
  {
   "cell_type": "markdown",
   "metadata": {},
   "source": [
    "Find unique genres in french_movie_overall_ranking."
   ]
  },
  {
   "cell_type": "code",
   "execution_count": null,
   "metadata": {},
   "outputs": [],
   "source": [
    "all_list = []\n",
    "for i in range(french_movie_overall_ranking.shape[0]):\n",
    "    all_list += french_movie_overall_ranking['Genres'][i].split(',')"
   ]
  },
  {
   "cell_type": "code",
   "execution_count": null,
   "metadata": {},
   "outputs": [],
   "source": [
    "list_genres = set(all_list)\n",
    "for i in list_genres:\n",
    "    french_movie_overall_ranking[i] = ''"
   ]
  },
  {
   "cell_type": "code",
   "execution_count": null,
   "metadata": {},
   "outputs": [],
   "source": [
    "list_genres"
   ]
  },
  {
   "cell_type": "code",
   "execution_count": null,
   "metadata": {},
   "outputs": [],
   "source": [
    "for i in range(french_movie_overall_ranking.shape[0]):\n",
    "    for k in list_genres:\n",
    "        if k in french_movie_overall_ranking['Genres'][i]:\n",
    "            french_movie_overall_ranking[k][i] = 1\n",
    "        else:\n",
    "            french_movie_overall_ranking[k][i] = 0"
   ]
  },
  {
   "cell_type": "code",
   "execution_count": null,
   "metadata": {},
   "outputs": [],
   "source": [
    "french_movie_overall_ranking_all_genres = french_movie_overall_ranking"
   ]
  },
  {
   "cell_type": "markdown",
   "metadata": {},
   "source": [
    "Caculate the total amount at the end of the columns"
   ]
  },
  {
   "cell_type": "code",
   "execution_count": null,
   "metadata": {},
   "outputs": [],
   "source": [
    "sum_genres = french_movie_overall_ranking_all_genres.iloc[:,11:].sum()"
   ]
  },
  {
   "cell_type": "code",
   "execution_count": null,
   "metadata": {},
   "outputs": [],
   "source": [
    "add = {}\n",
    "for i,j in zip(list_genres,sum_genres):\n",
    "    add[i] = j"
   ]
  },
  {
   "cell_type": "code",
   "execution_count": null,
   "metadata": {},
   "outputs": [],
   "source": [
    "french_movie_in_genres = french_movie_overall_ranking_all_genres.append(add, ignore_index=True)"
   ]
  },
  {
   "cell_type": "code",
   "execution_count": null,
   "metadata": {},
   "outputs": [],
   "source": [
    "french_movie_in_genres.info()"
   ]
  },
  {
   "cell_type": "markdown",
   "metadata": {},
   "source": [
    "To get genre rank list"
   ]
  },
  {
   "cell_type": "code",
   "execution_count": null,
   "metadata": {},
   "outputs": [],
   "source": [
    "genres_tp = french_movie_in_genres.transpose()"
   ]
  },
  {
   "cell_type": "code",
   "execution_count": null,
   "metadata": {},
   "outputs": [],
   "source": [
    "genres_tp = genres_tp.sort_values(by = 788, ascending = True)"
   ]
  },
  {
   "cell_type": "code",
   "execution_count": null,
   "metadata": {},
   "outputs": [],
   "source": [
    "genres_tp_tp = genres_tp.transpose()"
   ]
  },
  {
   "cell_type": "code",
   "execution_count": null,
   "metadata": {},
   "outputs": [],
   "source": [
    "genres_tp_tp"
   ]
  },
  {
   "cell_type": "code",
   "execution_count": null,
   "metadata": {},
   "outputs": [],
   "source": [
    "genres_rank_list = genres_tp_tp.columns.values.tolist()"
   ]
  },
  {
   "cell_type": "code",
   "execution_count": null,
   "metadata": {},
   "outputs": [],
   "source": [
    "genres_rank_list"
   ]
  },
  {
   "cell_type": "code",
   "execution_count": null,
   "metadata": {},
   "outputs": [],
   "source": [
    "genres_rank_list_new = ['Title',\n",
    " 'Language',\n",
    " 'IMDb',\n",
    " 'Rotten Tomatoes',\n",
    " 'Overall rating',\n",
    " 'News',\n",
    " 'Short',\n",
    " 'Sport',\n",
    " 'Western',\n",
    " 'Musical',\n",
    " 'Sci-Fi',\n",
    " 'Animation',\n",
    " 'Horror',\n",
    " 'Music',\n",
    " 'War',\n",
    " 'Fantasy',\n",
    " 'History',\n",
    " 'Biography',\n",
    " 'Family',\n",
    " 'Mystery',\n",
    " 'Crime',\n",
    " 'Documentary',\n",
    " 'Adventure',\n",
    " 'Action',\n",
    " 'Thriller',\n",
    " 'Romance',\n",
    " 'Comedy',\n",
    " 'Drama',\n",
    " 'Age',\n",
    " 'Genres',\n",
    " 'Country',\n",
    " 'Runtime',\n",
    " 'Year',\n",
    " 'Directors']"
   ]
  },
  {
   "cell_type": "code",
   "execution_count": null,
   "metadata": {},
   "outputs": [],
   "source": [
    "french_movie_ranking_in_genres = french_movie_in_genres[genres_rank_list_new]"
   ]
  },
  {
   "cell_type": "code",
   "execution_count": null,
   "metadata": {},
   "outputs": [],
   "source": [
    "french_movie_ranking_in_genres.iloc[788, 0] = 'Genre_Count'"
   ]
  },
  {
   "cell_type": "code",
   "execution_count": null,
   "metadata": {},
   "outputs": [],
   "source": [
    "genre_distribution = french_movie_ranking_in_genres.iloc[788, 5:28]"
   ]
  },
  {
   "cell_type": "markdown",
   "metadata": {},
   "source": [
    "From the bar chart above we can conclude that the 5 most least tapped genres are News, Short, Sport, Western, Musical"
   ]
  },
  {
   "cell_type": "code",
   "execution_count": null,
   "metadata": {},
   "outputs": [],
   "source": [
    "Ranking_pic = genre_distribution.plot.bar(title = 'French movie genre distribution')"
   ]
  },
  {
   "cell_type": "code",
   "execution_count": null,
   "metadata": {},
   "outputs": [],
   "source": [
    "french_movie_ranking_in_each_genres = french_movie_ranking_in_genres.sort_values(['News', 'Short', 'Sport', 'Western', 'Musical', 'Sci-Fi', 'Animation', 'Horror', 'Music', 'War', 'Fantasy', 'History',\n",
    " 'Biography', 'Family', 'Mystery', 'Crime', 'Documentary', 'Adventure', 'Action', 'Thriller', 'Romance', 'Comedy', 'Drama', 'Overall rating'], ascending =  False).reset_index().drop(['index'],axis=1)"
   ]
  },
  {
   "cell_type": "markdown",
   "metadata": {},
   "source": [
    "Merge two tables"
   ]
  },
  {
   "cell_type": "code",
   "execution_count": null,
   "metadata": {},
   "outputs": [],
   "source": [
    "french_movie_streaming = pd.merge(movies_ranking_join, movies_streaming_services, on = 'Title')"
   ]
  },
  {
   "cell_type": "code",
   "execution_count": null,
   "metadata": {},
   "outputs": [],
   "source": [
    "french_movie_streaming.head()"
   ]
  },
  {
   "cell_type": "code",
   "execution_count": null,
   "metadata": {},
   "outputs": [],
   "source": [
    "french_movie_streaming = french_movie_streaming.iloc[: , 1:]"
   ]
  },
  {
   "cell_type": "markdown",
   "metadata": {},
   "source": [
    "Calculate the sum of each service provider and insert the value at bottom"
   ]
  },
  {
   "cell_type": "code",
   "execution_count": null,
   "metadata": {},
   "outputs": [],
   "source": [
    "french_movie_streaming.loc['Total',:]= french_movie_streaming.sum(axis=0)"
   ]
  },
  {
   "cell_type": "code",
   "execution_count": null,
   "metadata": {},
   "outputs": [],
   "source": [
    "french_movie_streaming_provider = french_movie_streaming[[\"Netflix\", \"Hulu\", \"Prime Video\", \"Disney+\"]]"
   ]
  },
  {
   "cell_type": "code",
   "execution_count": null,
   "metadata": {},
   "outputs": [],
   "source": [
    "french_movie_streaming_provider"
   ]
  }
 ],
 "metadata": {
  "kernelspec": {
   "display_name": "Python 3",
   "language": "python",
   "name": "python3"
  },
  "language_info": {
   "codemirror_mode": {
    "name": "ipython",
    "version": 3
   },
   "file_extension": ".py",
   "mimetype": "text/x-python",
   "name": "python",
   "nbconvert_exporter": "python",
   "pygments_lexer": "ipython3",
   "version": "3.7.6"
  }
 },
 "nbformat": 4,
 "nbformat_minor": 4
}
